{
 "cells": [
  {
   "cell_type": "code",
   "execution_count": 3,
   "metadata": {},
   "outputs": [],
   "source": [
    "import pandas as pd # Pour manipuler les données\n",
    "import re # Pour extraire des schémas"
   ]
  },
  {
   "cell_type": "code",
   "execution_count": 4,
   "metadata": {},
   "outputs": [],
   "source": [
    "### Charger les données ###\n",
    "chiffre_clef = pd.read_excel('data/chiffre_clef.xlsx')\n",
    "actif = pd.read_excel('data/actif.xlsx')\n",
    "passif = pd.read_excel('data/passif.xlsx' , header=1)"
   ]
  },
  {
   "cell_type": "code",
   "execution_count": 5,
   "metadata": {},
   "outputs": [],
   "source": [
    "### Nettoyage des données ###\n",
    "def clean_dates(df : pd.DataFrame)  -> None:\n",
    "    '''\n",
    "    Extrait les colonnes des dates , les transforme en objet TimeStamps , lisible en tant que dates par pandas.\n",
    "    La modification se fait inplace (cette fonction ne retourne pas un dataframe , elle le modifie simplement)\n",
    "    '''\n",
    "\n",
    "    to_clean = list(df.columns)\n",
    "    pattern = re.compile('\\\\d{2}/\\\\d{2}/\\\\d{4}') # Schéma de regex permettant d'extraire les dates\n",
    "    \n",
    "    for i in range(len(to_clean)):\n",
    "        col = to_clean[i]\n",
    "        result = re.findall(pattern=pattern , string=col)\n",
    "        if len(result) == 1:\n",
    "            to_clean[i] = pd.to_datetime(result[0] , format=\"%d/%m/%Y\")\n",
    "\n",
    "    df.columns = to_clean\n",
    "\n",
    "\n",
    "def reverse_column_and_index(df : pd.DataFrame) -> pd.DataFrame:\n",
    "    ''' \n",
    "    Initialement , les dates font office de colonnes. Il serait plus efficient d'inverser avec l'index , qui représente des catégories \n",
    "    pour afficher correctement les valeurs en graphiques\n",
    "    '''\n",
    "    df.index = df['Comptes sociaux']\n",
    "    df = df.drop('Comptes sociaux' , axis=1)\n",
    "    df = df.T # Inverser les colonnes et l'index\n",
    "    return df\n",
    "\n",
    "\n",
    "def turn_into_float_and_clean(df: pd.DataFrame) -> pd.DataFrame:\n",
    "    ''' \n",
    "    Actuellement , toute les colonnes de nos jeux de donnée sont au format object. Il faut donc les transformer à un format numérique. \n",
    "    Il faut aussi se débarasser des espaces , caractères spéciaux , ect ... \n",
    "    '''\n",
    "    df = df.applymap(lambda x: str(x).replace('\\xa0', '').strip() if pd.notnull(x) else x)\n",
    "    df = df.replace('' , '0')\n",
    "    df = df.astype(float)\n",
    "    df = df.drop([col for col in df.columns if col.strip() == ''], axis=1)\n",
    "    df = df.drop(df.index[0])\n",
    "    df = df.reset_index() # Pour accéder aux dates avec plotly\n",
    "    df = df.rename(columns={'index': 'date'})\n",
    "    df.columns = df.columns.str.replace('\\xa0', '')\n",
    "    df['year'] = df['date'].dt.year\n",
    "\n",
    "    for col in df.drop('date' , axis=1):\n",
    "        if df[col].sum() == 0.0:\n",
    "            df = df.drop(col , axis=1)\n",
    "\n",
    "    return df\n",
    "    \n",
    "\n",
    "# Extraire les dates\n",
    "clean_dates(chiffre_clef)\n",
    "clean_dates(actif)\n",
    "clean_dates(passif)\n",
    "\n",
    "# Transposer en série temporelle \n",
    "chiffre_clef = reverse_column_and_index(chiffre_clef)\n",
    "actif = reverse_column_and_index(actif)\n",
    "passif = reverse_column_and_index(passif)\n",
    "\n",
    "\n",
    "# Transformer en type integers et nettoyer les colonnes vides\n",
    "passif = turn_into_float_and_clean(passif)\n",
    "actif = turn_into_float_and_clean(actif)\n",
    "chiffre_clef = turn_into_float_and_clean(chiffre_clef)\n",
    "\n",
    "\n",
    "# Sauvegarder les jeux de données propres\n",
    "passif.to_csv('data/passif.csv' , index=False)\n",
    "actif.to_csv('data/actif.csv' , index=False)\n",
    "chiffre_clef.to_csv('data/chiffre_clef.csv' , index=False)"
   ]
  }
 ],
 "metadata": {
  "kernelspec": {
   "display_name": "Python 3",
   "language": "python",
   "name": "python3"
  },
  "language_info": {
   "codemirror_mode": {
    "name": "ipython",
    "version": 3
   },
   "file_extension": ".py",
   "mimetype": "text/x-python",
   "name": "python",
   "nbconvert_exporter": "python",
   "pygments_lexer": "ipython3",
   "version": "3.10.5"
  },
  "orig_nbformat": 4
 },
 "nbformat": 4,
 "nbformat_minor": 2
}
